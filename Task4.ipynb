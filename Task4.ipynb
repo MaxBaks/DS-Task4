{
 "cells": [
  {
   "cell_type": "code",
   "execution_count": 1,
   "metadata": {},
   "outputs": [
    {
     "name": "stdout",
     "output_type": "stream",
     "text": [
      "['2019-06-09', '2019-06-10', '2019-06-11', '2019-06-12']\n"
     ]
    }
   ],
   "source": [
    "#1\n",
    "import time\n",
    "from datetime import date\n",
    "from datetime import datetime\n",
    "from datetime import timedelta\n",
    "\n",
    "def date_range(start_date,end_date):\n",
    "    \n",
    "    start = datetime.strptime(start_date, '%Y-%m-%d')\n",
    "    finish = datetime.strptime(end_date, '%Y-%m-%d')\n",
    "    result = []\n",
    "    \n",
    "    while start <= finish:\n",
    "        datestr = start.strftime('%Y-%m-%d')\n",
    "        result.append(datestr)\n",
    "        start += timedelta(days=1)\n",
    "        \n",
    "    return result\n",
    "\n",
    "print(date_range('2019-06-09', '2019-06-12'))"
   ]
  },
  {
   "cell_type": "code",
   "execution_count": 3,
   "metadata": {},
   "outputs": [
    {
     "name": "stdout",
     "output_type": "stream",
     "text": [
      "['2019-06-09', '2019-06-10', '2019-06-11', '2019-06-12']\n",
      "[]\n"
     ]
    }
   ],
   "source": [
    "#2\n",
    "def date_range(start_date,end_date):\n",
    "    \n",
    "    start = datetime.strptime(start_date, '%Y-%m-%d')\n",
    "    finish = datetime.strptime(end_date, '%Y-%m-%d')\n",
    "    result = []\n",
    "    \n",
    "    if start > finish:\n",
    "        return []\n",
    "    else:\n",
    "        while start <= finish:\n",
    "            datestr = start.strftime('%Y-%m-%d')\n",
    "            result.append(datestr)\n",
    "            start += timedelta(days=1)\n",
    "        \n",
    "    return result\n",
    "\n",
    "print(date_range('2019-06-09', '2019-06-12'))\n",
    "print(date_range('2019-06-13', '2019-06-12'))"
   ]
  },
  {
   "cell_type": "code",
   "execution_count": 7,
   "metadata": {},
   "outputs": [
    {
     "name": "stdout",
     "output_type": "stream",
     "text": [
      "True\n",
      "False\n",
      "False\n"
     ]
    }
   ],
   "source": [
    "#3\n",
    "stream = ['2018-04-02', '2018-02-29', '2018-19-02']\n",
    "\n",
    "def checkDates(dates):    \n",
    "    for item in dates:\n",
    "        try:\n",
    "            dt = datetime.strptime(item, '%Y-%m-%d')\n",
    "            print(True)\n",
    "        except:\n",
    "            print(False)\n",
    "            \n",
    "checkDates(stream)\n",
    "            "
   ]
  },
  {
   "cell_type": "code",
   "execution_count": 24,
   "metadata": {},
   "outputs": [
    {
     "name": "stdout",
     "output_type": "stream",
     "text": [
      "['2019-07-01', '2019-07-02', '2019-07-03', '2019-07-04', '2019-07-05', '2019-07-06']\n",
      "['2019-06-01', '2019-06-02', '2019-06-03', '2019-06-04', '2019-06-05', '2019-06-06', '2019-06-07', '2019-06-08', '2019-06-09', '2019-06-10', '2019-06-11', '2019-06-12', '2019-06-13', '2019-06-14', '2019-06-15', '2019-06-16', '2019-06-17', '2019-06-18', '2019-06-19', '2019-06-20', '2019-06-21', '2019-06-22', '2019-06-23', '2019-06-24', '2019-06-25', '2019-06-26', '2019-06-27', '2019-06-28', '2019-06-29', '2019-06-30']\n"
     ]
    }
   ],
   "source": [
    "#4\n",
    "def getDateRange(inputDT):\n",
    "\n",
    "    dt = datetime.strptime(inputDT, '%Y-%m-%d')\n",
    "    result = []\n",
    "    i = 1\n",
    "\n",
    "    if int(dt.day) == 1: \n",
    "           lastMonthDT = dt - timedelta(days=1)   \n",
    "           while i <= int(lastMonthDT.day):\n",
    "             result.append(lastMonthDT.replace(day=i).strftime('%Y-%m-%d'))\n",
    "             i += 1\n",
    "    else:       \n",
    "        while i < int(dt.day) :\n",
    "          result.append(dt.replace(day=i).strftime('%Y-%m-%d'))\n",
    "          i += 1\n",
    "\n",
    "    return result\n",
    "\n",
    "print(getDateRange('2019-07-07'))\n",
    "print(getDateRange('2019-07-01'))"
   ]
  }
 ],
 "metadata": {
  "kernelspec": {
   "display_name": "Python 3",
   "language": "python",
   "name": "python3"
  },
  "language_info": {
   "codemirror_mode": {
    "name": "ipython",
    "version": 3
   },
   "file_extension": ".py",
   "mimetype": "text/x-python",
   "name": "python",
   "nbconvert_exporter": "python",
   "pygments_lexer": "ipython3",
   "version": "3.7.3"
  }
 },
 "nbformat": 4,
 "nbformat_minor": 2
}
